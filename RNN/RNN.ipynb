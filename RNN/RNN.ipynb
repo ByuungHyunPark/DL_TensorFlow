{
 "cells": [
  {
   "cell_type": "markdown",
   "metadata": {},
   "source": [
    "# RNN이란 ?\n",
    "- Recurrent Neural Networks 의 약자로 , 순환신경망이라는 뜻이다.\n",
    "- 주로 RNN은 연속형 데이터 , 음성 , NLP , 동영상 등의 데이터에서 사용된다.\n",
    "- 기존 DNN과 RNN 차이점\n",
    "    - __RNN은 뉴런의 상태를 저장하고 다음스탭에서 입력으로 사용함__으로써 , 긴 시퀀스에 대해서도 예측이 가능하다"
   ]
  },
  {
   "cell_type": "markdown",
   "metadata": {},
   "source": [
    "![](images/RNN_1.png)\n",
    "- 모든 뉴런은 이전 층의 모든 뉴런에서 나오는 입력 연결, 그리고 이어지는 층으로 모든 뉴런을 유도하는 출력 , 즉  __입출력 연결을 둘다 갖고있다.__"
   ]
  },
  {
   "cell_type": "markdown",
   "metadata": {},
   "source": [
    "# SimpleRNN 레이어\n",
    "$$ h_t = tanh(U_{xt} + Wh_{t-1})) $$\n",
    "- tanh 를 활성화 함수로 사용하며 , 위는 실수를 입력받아 -1 ~ 1 사이의 출력값을 반환한다 ."
   ]
  },
  {
   "cell_type": "code",
   "execution_count": 3,
   "metadata": {},
   "outputs": [],
   "source": [
    "import tensorflow as tf\n",
    "\n",
    "rnn1 = tf.keras.layers.SimpleRNN(units = 1 , activation = 'tanh', return_sequences=True)"
   ]
  },
  {
   "cell_type": "markdown",
   "metadata": {},
   "source": [
    "- units : SimpleRNN 레이어에 존재하는 뉴런의 수\n",
    "- return_sequences : 출력으로 시퀀스 전체를 출력할지 여부를 나타내는 옵션\n",
    "    - 주로 여러개의 RNN 레이어를 쌓을 때 사용"
   ]
  },
  {
   "cell_type": "code",
   "execution_count": 10,
   "metadata": {},
   "outputs": [
    {
     "name": "stdout",
     "output_type": "stream",
     "text": [
      "[[0. ]\n",
      " [0.1]\n",
      " [0.2]\n",
      " [0.3]] \n",
      " 위 4개 다음에 올 정답 :  0.4 \n",
      "\n",
      "[[0.1]\n",
      " [0.2]\n",
      " [0.3]\n",
      " [0.4]] \n",
      " 위 4개 다음에 올 정답 :  0.5 \n",
      "\n",
      "[[0.2]\n",
      " [0.3]\n",
      " [0.4]\n",
      " [0.5]] \n",
      " 위 4개 다음에 올 정답 :  0.6 \n",
      "\n",
      "[[0.3]\n",
      " [0.4]\n",
      " [0.5]\n",
      " [0.6]] \n",
      " 위 4개 다음에 올 정답 :  0.7 \n",
      "\n",
      "[[0.4]\n",
      " [0.5]\n",
      " [0.6]\n",
      " [0.7]] \n",
      " 위 4개 다음에 올 정답 :  0.8 \n",
      "\n",
      "[[0.5]\n",
      " [0.6]\n",
      " [0.7]\n",
      " [0.8]] \n",
      " 위 4개 다음에 올 정답 :  0.9 \n",
      "\n"
     ]
    }
   ],
   "source": [
    "import numpy as np\n",
    "\n",
    "X = [] #문제\n",
    "Y = [] #답\n",
    "\n",
    "for i in range(6):\n",
    "    # [0,1,2,3], [1,2,3,4] 같은 정수의 시퀀스를 만든다.\n",
    "    lst = list(range(i , i+4))\n",
    "    \n",
    "    #위에서 구한 시퀀스의 숫자들을 각각 10으로 나눈 다음 저장\n",
    "    \n",
    "    #SimpleRNN에 각 타임스텝에 하나씩 숫자가 들어가기 때문에 여기서도 하나씩 분리해서 배열에 저장.\n",
    "    X.append(list(map(lambda c : [c/10] , lst)))\n",
    "\n",
    "    #정답에 해당하는4,5 등의 정수 또한 앞에서처럼 10으로 나눠서 저장.\n",
    "    Y.append((i+4)/10)\n",
    "    \n",
    "X = np.array(X)\n",
    "Y = np.array(Y)\n",
    "for i in range(len(X)):\n",
    "    print(X[i] , '\\n','위 4개 다음에 올 정답 : ' , Y[i] ,'\\n')"
   ]
  },
  {
   "cell_type": "markdown",
   "metadata": {},
   "source": [
    ">- 위와 같이 4개의 연속되는 숫자와 그 다음에 나올 답을 학습시키면 , 어떤 연속된 숫자 주어지면 그 답을 알아낼까?"
   ]
  },
  {
   "cell_type": "code",
   "execution_count": 12,
   "metadata": {},
   "outputs": [
    {
     "name": "stdout",
     "output_type": "stream",
     "text": [
      "Model: \"sequential\"\n",
      "_________________________________________________________________\n",
      "Layer (type)                 Output Shape              Param #   \n",
      "=================================================================\n",
      "simple_rnn_1 (SimpleRNN)     (None, 10)                120       \n",
      "_________________________________________________________________\n",
      "dense (Dense)                (None, 1)                 11        \n",
      "=================================================================\n",
      "Total params: 131\n",
      "Trainable params: 131\n",
      "Non-trainable params: 0\n",
      "_________________________________________________________________\n"
     ]
    }
   ],
   "source": [
    "#학습 모델 생성\n",
    "\n",
    "model = tf.keras.Sequential([\n",
    "    tf.keras.layers.SimpleRNN(units = 10 , return_sequences = False , input_shape = [4,1]),\n",
    "    tf.keras.layers.Dense(1)  #한개의 답으로 출력\n",
    "])\n",
    "\n",
    "model.compile(optimizer = 'adam' , loss ='mse')\n",
    "model.summary()"
   ]
  },
  {
   "cell_type": "markdown",
   "metadata": {},
   "source": [
    ">- 위 과정에서 input_shape = [4,1]인데 , 각각 timesteps , input_dim 을 나타낸다.\n",
    ">- timesteps : 순환 신경망이 입력에 대해 계산을 반복하는 획수\n",
    ">- input_dim : 입력 벡터의 크기"
   ]
  },
  {
   "cell_type": "markdown",
   "metadata": {},
   "source": [
    "##### 학습"
   ]
  },
  {
   "cell_type": "code",
   "execution_count": 18,
   "metadata": {},
   "outputs": [
    {
     "data": {
      "text/plain": [
       "<tensorflow.python.keras.callbacks.History at 0x19b60e59448>"
      ]
     },
     "execution_count": 18,
     "metadata": {},
     "output_type": "execute_result"
    }
   ],
   "source": [
    "model.fit(X, Y , epochs = 100, verbose = 0)"
   ]
  },
  {
   "cell_type": "markdown",
   "metadata": {},
   "source": [
    ">- epochs : 학습 반복 수\n",
    ">- verbose : 진행 과정 확인 True: 1 , False : 0"
   ]
  },
  {
   "cell_type": "markdown",
   "metadata": {},
   "source": [
    "##### 학습 잘 되었나 확인"
   ]
  },
  {
   "cell_type": "code",
   "execution_count": 23,
   "metadata": {},
   "outputs": [
    {
     "name": "stdout",
     "output_type": "stream",
     "text": [
      "[[0.8679709]]\n",
      "[[0.17566746]]\n"
     ]
    }
   ],
   "source": [
    "print(model.predict(np.array([[ [0.6],[0.7],[0.8],[0.9]  ]])))  \n",
    "# 우리가 원하는 결과 : 1\n",
    "\n",
    "print(model.predict(np.array([[ [-0.1],[0.0],[0.1],[0.2]  ]])))\n",
    "# 우리가 원하는 결과 : 0.3"
   ]
  },
  {
   "cell_type": "markdown",
   "metadata": {},
   "source": [
    ">- 위는 우리가 원하는 결과와는 살짝 다르다 . 이것이 SimpleRNN의 한계이다.\n",
    ">- 더 좋은 성능을 위해서는 LSTM과 GRU 모델을 주로 사용한다."
   ]
  }
 ],
 "metadata": {
  "kernelspec": {
   "display_name": "Python 3",
   "language": "python",
   "name": "python3"
  },
  "language_info": {
   "codemirror_mode": {
    "name": "ipython",
    "version": 3
   },
   "file_extension": ".py",
   "mimetype": "text/x-python",
   "name": "python",
   "nbconvert_exporter": "python",
   "pygments_lexer": "ipython3",
   "version": "3.7.6"
  }
 },
 "nbformat": 4,
 "nbformat_minor": 4
}
